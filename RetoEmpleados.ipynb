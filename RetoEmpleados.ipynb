{
  "nbformat": 4,
  "nbformat_minor": 0,
  "metadata": {
    "colab": {
      "provenance": [],
      "authorship_tag": "ABX9TyNtOH2d+s4ne5oNZAoamFfz",
      "include_colab_link": true
    },
    "kernelspec": {
      "name": "python3",
      "display_name": "Python 3"
    },
    "language_info": {
      "name": "python"
    }
  },
  "cells": [
    {
      "cell_type": "markdown",
      "metadata": {
        "id": "view-in-github",
        "colab_type": "text"
      },
      "source": [
        "<a href=\"https://colab.research.google.com/github/ErickData/Erick-Projects/blob/main/RetoEmpleados.ipynb\" target=\"_parent\"><img src=\"https://colab.research.google.com/assets/colab-badge.svg\" alt=\"Open In Colab\"/></a>"
      ]
    },
    {
      "cell_type": "code",
      "execution_count": 74,
      "metadata": {
        "id": "d9UMFOQkX0Sc"
      },
      "outputs": [],
      "source": [
        "import pandas as pd\n",
        "\n",
        "import numpy as np\n",
        "\n",
        "from sklearn.ensemble import RandomForestClassifier\n",
        "\n",
        "from sklearn.datasets import load_digits\n",
        "\n",
        "from sklearn import linear_model\n",
        "\n",
        "from sklearn import preprocessing\n",
        "\n",
        "from sklearn.preprocessing import LabelBinarizer\n",
        "\n",
        "from sklearn.decomposition import PCA"
      ]
    },
    {
      "cell_type": "code",
      "source": [
        "EmpleadosAttrition = pd.read_csv('/content/sample_data/empleadosRETO.csv')"
      ],
      "metadata": {
        "id": "eCh22Zr3X6eO"
      },
      "execution_count": 75,
      "outputs": []
    },
    {
      "cell_type": "code",
      "source": [
        "EmpleadosAttrition = EmpleadosAttrition.drop(['EmployeeCount','EmployeeNumber','Over18','StandardHours'], axis=1)"
      ],
      "metadata": {
        "id": "c7KKlc-lYVym"
      },
      "execution_count": 76,
      "outputs": []
    },
    {
      "cell_type": "code",
      "source": [
        "#Obteniendo el año extrayendo los ultimos 4 digitos\n",
        "\n",
        "EmpleadosAttrition['Year'] = EmpleadosAttrition['HiringDate'].str[-4:].astype(int)"
      ],
      "metadata": {
        "id": "4lvsmH9yeC9N"
      },
      "execution_count": 77,
      "outputs": []
    },
    {
      "cell_type": "code",
      "source": [
        "#Obteniendo el año dividiendo el string en partes\n",
        "\n",
        "EmpleadosAttrition['Year'] = EmpleadosAttrition['HiringDate'].str.split(pat='/').str[2].astype(int)"
      ],
      "metadata": {
        "id": "FZkk7SRKfhHE"
      },
      "execution_count": 78,
      "outputs": []
    },
    {
      "cell_type": "code",
      "source": [
        "#Calculo de Años en la compañia\n",
        "\n",
        "EmpleadosAttrition['YearsAtCompany'] = 2018 - EmpleadosAttrition['Year']"
      ],
      "metadata": {
        "id": "PJz89Pz0egyk"
      },
      "execution_count": 79,
      "outputs": []
    },
    {
      "cell_type": "code",
      "source": [
        "#Cambiar nombre de calumna\n",
        "\n",
        "EmpleadosAttrition = EmpleadosAttrition.rename(columns={'DistanceFromHome': 'DistanceFromHome_km'})"
      ],
      "metadata": {
        "id": "w82DRpRDrngn"
      },
      "execution_count": 80,
      "outputs": []
    },
    {
      "cell_type": "code",
      "source": [
        "#Cambiar variable a entera (int)\n",
        "\n",
        "EmpleadosAttrition['DistanceFromHome'] = EmpleadosAttrition['DistanceFromHome_km'].str[0].astype(int)"
      ],
      "metadata": {
        "id": "lnQ1KKwnfNQU"
      },
      "execution_count": 81,
      "outputs": []
    },
    {
      "cell_type": "code",
      "source": [
        "#Borrar columnas\n",
        "\n",
        "EmpleadosAttrition = EmpleadosAttrition.drop(['Year','HiringDate','DistanceFromHome_km'], axis= 1)"
      ],
      "metadata": {
        "id": "gWY3J6ilt2a0"
      },
      "execution_count": 82,
      "outputs": []
    },
    {
      "cell_type": "code",
      "source": [
        "#Tabla informativa del sueldo promedio por departamento\n",
        "\n",
        "SueldoPromedioDepto = EmpleadosAttrition.groupby(['Department'])[['MonthlyIncome']].mean()\n",
        "\n",
        "SueldoPromedioDepto = SueldoPromedioDepto.rename(columns={'MonthlyIncome': 'SueldoPrimedio'})"
      ],
      "metadata": {
        "id": "_6M2HL1Zvv3Q"
      },
      "execution_count": 83,
      "outputs": []
    },
    {
      "cell_type": "code",
      "source": [
        "SueldoPromedioDepto"
      ],
      "metadata": {
        "colab": {
          "base_uri": "https://localhost:8080/",
          "height": 175
        },
        "id": "cEOPW7JKxo_a",
        "outputId": "af6261f5-2374-43ff-8f1f-dc5354bdee75"
      },
      "execution_count": 84,
      "outputs": [
        {
          "output_type": "execute_result",
          "data": {
            "text/plain": [
              "                        SueldoPrimedio\n",
              "Department                            \n",
              "Human Resources            6239.888889\n",
              "Research & Development     6804.149813\n",
              "Sales                      7188.250000"
            ],
            "text/html": [
              "\n",
              "  <div id=\"df-997eea05-e483-493b-a54d-b78b5e4f1ff4\">\n",
              "    <div class=\"colab-df-container\">\n",
              "      <div>\n",
              "<style scoped>\n",
              "    .dataframe tbody tr th:only-of-type {\n",
              "        vertical-align: middle;\n",
              "    }\n",
              "\n",
              "    .dataframe tbody tr th {\n",
              "        vertical-align: top;\n",
              "    }\n",
              "\n",
              "    .dataframe thead th {\n",
              "        text-align: right;\n",
              "    }\n",
              "</style>\n",
              "<table border=\"1\" class=\"dataframe\">\n",
              "  <thead>\n",
              "    <tr style=\"text-align: right;\">\n",
              "      <th></th>\n",
              "      <th>SueldoPrimedio</th>\n",
              "    </tr>\n",
              "    <tr>\n",
              "      <th>Department</th>\n",
              "      <th></th>\n",
              "    </tr>\n",
              "  </thead>\n",
              "  <tbody>\n",
              "    <tr>\n",
              "      <th>Human Resources</th>\n",
              "      <td>6239.888889</td>\n",
              "    </tr>\n",
              "    <tr>\n",
              "      <th>Research &amp; Development</th>\n",
              "      <td>6804.149813</td>\n",
              "    </tr>\n",
              "    <tr>\n",
              "      <th>Sales</th>\n",
              "      <td>7188.250000</td>\n",
              "    </tr>\n",
              "  </tbody>\n",
              "</table>\n",
              "</div>\n",
              "      <button class=\"colab-df-convert\" onclick=\"convertToInteractive('df-997eea05-e483-493b-a54d-b78b5e4f1ff4')\"\n",
              "              title=\"Convert this dataframe to an interactive table.\"\n",
              "              style=\"display:none;\">\n",
              "        \n",
              "  <svg xmlns=\"http://www.w3.org/2000/svg\" height=\"24px\"viewBox=\"0 0 24 24\"\n",
              "       width=\"24px\">\n",
              "    <path d=\"M0 0h24v24H0V0z\" fill=\"none\"/>\n",
              "    <path d=\"M18.56 5.44l.94 2.06.94-2.06 2.06-.94-2.06-.94-.94-2.06-.94 2.06-2.06.94zm-11 1L8.5 8.5l.94-2.06 2.06-.94-2.06-.94L8.5 2.5l-.94 2.06-2.06.94zm10 10l.94 2.06.94-2.06 2.06-.94-2.06-.94-.94-2.06-.94 2.06-2.06.94z\"/><path d=\"M17.41 7.96l-1.37-1.37c-.4-.4-.92-.59-1.43-.59-.52 0-1.04.2-1.43.59L10.3 9.45l-7.72 7.72c-.78.78-.78 2.05 0 2.83L4 21.41c.39.39.9.59 1.41.59.51 0 1.02-.2 1.41-.59l7.78-7.78 2.81-2.81c.8-.78.8-2.07 0-2.86zM5.41 20L4 18.59l7.72-7.72 1.47 1.35L5.41 20z\"/>\n",
              "  </svg>\n",
              "      </button>\n",
              "      \n",
              "  <style>\n",
              "    .colab-df-container {\n",
              "      display:flex;\n",
              "      flex-wrap:wrap;\n",
              "      gap: 12px;\n",
              "    }\n",
              "\n",
              "    .colab-df-convert {\n",
              "      background-color: #E8F0FE;\n",
              "      border: none;\n",
              "      border-radius: 50%;\n",
              "      cursor: pointer;\n",
              "      display: none;\n",
              "      fill: #1967D2;\n",
              "      height: 32px;\n",
              "      padding: 0 0 0 0;\n",
              "      width: 32px;\n",
              "    }\n",
              "\n",
              "    .colab-df-convert:hover {\n",
              "      background-color: #E2EBFA;\n",
              "      box-shadow: 0px 1px 2px rgba(60, 64, 67, 0.3), 0px 1px 3px 1px rgba(60, 64, 67, 0.15);\n",
              "      fill: #174EA6;\n",
              "    }\n",
              "\n",
              "    [theme=dark] .colab-df-convert {\n",
              "      background-color: #3B4455;\n",
              "      fill: #D2E3FC;\n",
              "    }\n",
              "\n",
              "    [theme=dark] .colab-df-convert:hover {\n",
              "      background-color: #434B5C;\n",
              "      box-shadow: 0px 1px 3px 1px rgba(0, 0, 0, 0.15);\n",
              "      filter: drop-shadow(0px 1px 2px rgba(0, 0, 0, 0.3));\n",
              "      fill: #FFFFFF;\n",
              "    }\n",
              "  </style>\n",
              "\n",
              "      <script>\n",
              "        const buttonEl =\n",
              "          document.querySelector('#df-997eea05-e483-493b-a54d-b78b5e4f1ff4 button.colab-df-convert');\n",
              "        buttonEl.style.display =\n",
              "          google.colab.kernel.accessAllowed ? 'block' : 'none';\n",
              "\n",
              "        async function convertToInteractive(key) {\n",
              "          const element = document.querySelector('#df-997eea05-e483-493b-a54d-b78b5e4f1ff4');\n",
              "          const dataTable =\n",
              "            await google.colab.kernel.invokeFunction('convertToInteractive',\n",
              "                                                     [key], {});\n",
              "          if (!dataTable) return;\n",
              "\n",
              "          const docLinkHtml = 'Like what you see? Visit the ' +\n",
              "            '<a target=\"_blank\" href=https://colab.research.google.com/notebooks/data_table.ipynb>data table notebook</a>'\n",
              "            + ' to learn more about interactive tables.';\n",
              "          element.innerHTML = '';\n",
              "          dataTable['output_type'] = 'display_data';\n",
              "          await google.colab.output.renderOutput(dataTable, element);\n",
              "          const docLink = document.createElement('div');\n",
              "          docLink.innerHTML = docLinkHtml;\n",
              "          element.appendChild(docLink);\n",
              "        }\n",
              "      </script>\n",
              "    </div>\n",
              "  </div>\n",
              "  "
            ]
          },
          "metadata": {},
          "execution_count": 84
        }
      ]
    },
    {
      "cell_type": "code",
      "source": [
        "maximo = max(abs(EmpleadosAttrition['MonthlyIncome']))\n",
        "\n",
        "EmpleadosAttrition['MonthlyIncome_Norm'] = EmpleadosAttrition['MonthlyIncome']/maximo"
      ],
      "metadata": {
        "id": "SyRX0BUW_q9j"
      },
      "execution_count": 85,
      "outputs": []
    },
    {
      "cell_type": "code",
      "source": [
        "#Creación de variables dummies\n",
        "\n",
        "BusinessTravel_OH = pd.get_dummies(EmpleadosAttrition.BusinessTravel, prefix= 'BusinessTravel')\n",
        "Department_OH = pd.get_dummies(EmpleadosAttrition.Department, prefix= 'Department')\n",
        "EducationField_OH = pd.get_dummies(EmpleadosAttrition.EducationField, prefix= 'EducationField')\n",
        "Gender_OH = pd.get_dummies(EmpleadosAttrition.Gender, prefix= 'Gender')\n",
        "JobRole_OH = pd.get_dummies(EmpleadosAttrition.JobRole, prefix= 'JobRole')\n",
        "MaritalStatus_OH = pd.get_dummies(EmpleadosAttrition.MaritalStatus, prefix= 'MaritalStatus')\n",
        "Attrition_OH = pd.get_dummies(EmpleadosAttrition.Attrition, prefix= 'Attrition')\n"
      ],
      "metadata": {
        "id": "A5pSwVIDbVKs"
      },
      "execution_count": 86,
      "outputs": []
    },
    {
      "cell_type": "code",
      "source": [
        "#Concatenr las variables categoricas\n",
        "\n",
        "EmpleadosAttrition = pd.concat([EmpleadosAttrition, BusinessTravel_OH, Department_OH, EducationField_OH, Gender_OH, JobRole_OH, MaritalStatus_OH, Attrition_OH], axis = 1)\n"
      ],
      "metadata": {
        "id": "iSbKscs_FN0i"
      },
      "execution_count": 87,
      "outputs": []
    },
    {
      "cell_type": "code",
      "source": [
        "EmpleadosAttrition = EmpleadosAttrition.drop(['BusinessTravel','Department','EducationField','Gender','JobRole','MaritalStatus','OverTime','Attrition'], axis= 1)"
      ],
      "metadata": {
        "id": "g2_6fNe5-9UI"
      },
      "execution_count": 88,
      "outputs": []
    },
    {
      "cell_type": "code",
      "source": [
        "print(EmpleadosAttrition['Attrition_Yes'].corr(EmpleadosAttrition['Age']))\n",
        "print(EmpleadosAttrition['Attrition_Yes'].corr(EmpleadosAttrition['Education']))\n",
        "print(EmpleadosAttrition['Attrition_Yes'].corr(EmpleadosAttrition['EnvironmentSatisfaction']))\n",
        "print(EmpleadosAttrition['Attrition_Yes'].corr(EmpleadosAttrition['JobLevel']))\n",
        "print(EmpleadosAttrition['Attrition_Yes'].corr(EmpleadosAttrition['JobSatisfaction']))\n",
        "print(EmpleadosAttrition['Attrition_Yes'].corr(EmpleadosAttrition['MonthlyIncome']))\n",
        "print(EmpleadosAttrition['Attrition_Yes'].corr(EmpleadosAttrition['NumCompaniesWorked']))\n",
        "print(EmpleadosAttrition['Attrition_Yes'].corr(EmpleadosAttrition['PercentSalaryHike']))\n",
        "print(EmpleadosAttrition['Attrition_Yes'].corr(EmpleadosAttrition['PerformanceRating']))\n",
        "print(EmpleadosAttrition['Attrition_Yes'].corr(EmpleadosAttrition['RelationshipSatisfaction']))\n",
        "print(EmpleadosAttrition['Attrition_Yes'].corr(EmpleadosAttrition['TotalWorkingYears']))\n",
        "print(EmpleadosAttrition['Attrition_Yes'].corr(EmpleadosAttrition['TrainingTimesLastYear']))\n",
        "print(EmpleadosAttrition['Attrition_Yes'].corr(EmpleadosAttrition['WorkLifeBalance']))\n",
        "print(EmpleadosAttrition['Attrition_Yes'].corr(EmpleadosAttrition['YearsInCurrentRole']))\n",
        "print(EmpleadosAttrition['Attrition_Yes'].corr(EmpleadosAttrition['YearsSinceLastPromotion']))\n",
        "print(EmpleadosAttrition['Attrition_Yes'].corr(EmpleadosAttrition['YearsAtCompany']))\n",
        "print(EmpleadosAttrition['Attrition_Yes'].corr(EmpleadosAttrition['DistanceFromHome']))\n",
        "print(EmpleadosAttrition['Attrition_Yes'].corr(EmpleadosAttrition['MonthlyIncome_Norm']))\n",
        "print(EmpleadosAttrition['Attrition_Yes'].corr(EmpleadosAttrition['BusinessTravel_Non-Travel']))\n",
        "print(EmpleadosAttrition['Attrition_Yes'].corr(EmpleadosAttrition['BusinessTravel_Travel_Frequently']))\n",
        "print(EmpleadosAttrition['Attrition_Yes'].corr(EmpleadosAttrition['BusinessTravel_Travel_Rarely']))\n",
        "print(EmpleadosAttrition['Attrition_Yes'].corr(EmpleadosAttrition['Department_Human Resources']))\n",
        "print(EmpleadosAttrition['Attrition_Yes'].corr(EmpleadosAttrition['Department_Research & Development']))\n",
        "print(EmpleadosAttrition['Attrition_Yes'].corr(EmpleadosAttrition['Department_Sales']))\n",
        "print(EmpleadosAttrition['Attrition_Yes'].corr(EmpleadosAttrition['EducationField_Human Resources']))\n",
        "print(EmpleadosAttrition['Attrition_Yes'].corr(EmpleadosAttrition['EducationField_Life Sciences']))\n",
        "print(EmpleadosAttrition['Attrition_Yes'].corr(EmpleadosAttrition['EducationField_Marketing']))\n",
        "print(EmpleadosAttrition['Attrition_Yes'].corr(EmpleadosAttrition['EducationField_Medical']))\n",
        "print(EmpleadosAttrition['Attrition_Yes'].corr(EmpleadosAttrition['EducationField_Other']))\n",
        "print(EmpleadosAttrition['Attrition_Yes'].corr(EmpleadosAttrition['EducationField_Technical Degree']))\n",
        "print(EmpleadosAttrition['Attrition_Yes'].corr(EmpleadosAttrition['Gender_Female']))\n",
        "print(EmpleadosAttrition['Attrition_Yes'].corr(EmpleadosAttrition['Gender_Male']))\n",
        "print(EmpleadosAttrition['Attrition_Yes'].corr(EmpleadosAttrition['JobRole_Healthcare Representative']))\n",
        "print(EmpleadosAttrition['Attrition_Yes'].corr(EmpleadosAttrition['JobRole_Human Resources']))\n",
        "print(EmpleadosAttrition['Attrition_Yes'].corr(EmpleadosAttrition['JobRole_Laboratory Technician']))\n",
        "print(EmpleadosAttrition['Attrition_Yes'].corr(EmpleadosAttrition['JobRole_Manager']))\n",
        "print(EmpleadosAttrition['Attrition_Yes'].corr(EmpleadosAttrition['JobRole_Manufacturing Director']))\n",
        "print(EmpleadosAttrition['Attrition_Yes'].corr(EmpleadosAttrition['JobRole_Research Scientist']))\n",
        "print(EmpleadosAttrition['Attrition_Yes'].corr(EmpleadosAttrition['JobRole_Sales Executive']))\n",
        "print(EmpleadosAttrition['Attrition_Yes'].corr(EmpleadosAttrition['JobRole_Sales Representative']))\n",
        "print(EmpleadosAttrition['Attrition_Yes'].corr(EmpleadosAttrition['MaritalStatus_Divorced']))\n",
        "print(EmpleadosAttrition['Attrition_Yes'].corr(EmpleadosAttrition['MaritalStatus_Married']))\n",
        "print(EmpleadosAttrition['Attrition_Yes'].corr(EmpleadosAttrition['MaritalStatus_Single']))"
      ],
      "metadata": {
        "colab": {
          "base_uri": "https://localhost:8080/"
        },
        "id": "6yi-lNH0qXj_",
        "outputId": "84af054b-d3b7-4b63-f727-d4a31de02f91"
      },
      "execution_count": 89,
      "outputs": [
        {
          "output_type": "stream",
          "name": "stdout",
          "text": [
            "-0.21212111259206842\n",
            "-0.05553079310984968\n",
            "-0.12432694416927641\n",
            "-0.21426604317577613\n",
            "-0.16495679045325196\n",
            "-0.19493601628571225\n",
            "-0.009081775325922558\n",
            "-0.06087967966387507\n",
            "-0.00647103495364531\n",
            "-0.03094453065814358\n",
            "-0.21332903741456125\n",
            "-0.07088383377930298\n",
            "-0.021722932349419282\n",
            "-0.2039180268902555\n",
            "-0.06900034357702403\n",
            "-0.17600099666009275\n",
            "0.019343644513213652\n",
            "-0.19493601628571228\n",
            "-0.10069838603304206\n",
            "0.03538713306782459\n",
            "0.042755214674117435\n",
            "0.023389039416125856\n",
            "-0.07226940828855233\n",
            "0.06611580032506321\n",
            "0.043403645119206705\n",
            "-0.02745660825059098\n",
            "0.016768397738896077\n",
            "-0.054144235672434565\n",
            "-0.004274735721297515\n",
            "0.12910378854085475\n",
            "0.02883870932201118\n",
            "-0.02883870932201118\n",
            "-0.10327408974009566\n",
            "0.03271415265058961\n",
            "0.12526435950113082\n",
            "-0.08988520495146693\n",
            "-0.042403913570239316\n",
            "0.007976664280556153\n",
            "-0.0031149733931749193\n",
            "0.1912942228799706\n",
            "-0.10786945476152984\n",
            "-0.09473381939998372\n",
            "0.20584919886483347\n"
          ]
        }
      ]
    },
    {
      "cell_type": "code",
      "source": [
        "#Borrar variables no significativas\n",
        "\n",
        "EmpleadosAttrition = EmpleadosAttrition.drop(['Education','NumCompaniesWorked','PercentSalaryHike'], axis= 1)\n",
        "EmpleadosAttrition = EmpleadosAttrition.drop(['PerformanceRating','RelationshipSatisfaction','TrainingTimesLastYear','WorkLifeBalance'], axis= 1)\n",
        "EmpleadosAttrition = EmpleadosAttrition.drop(['YearsSinceLastPromotion','DistanceFromHome','BusinessTravel_Travel_Frequently'], axis= 1)\n",
        "EmpleadosAttrition = EmpleadosAttrition.drop(['BusinessTravel_Travel_Rarely','Department_Human Resources','Department_Research & Development'], axis= 1)\n",
        "EmpleadosAttrition = EmpleadosAttrition.drop(['Department_Sales','EducationField_Human Resources','EducationField_Life Sciences'], axis= 1)\n",
        "EmpleadosAttrition = EmpleadosAttrition.drop(['EducationField_Marketing','EducationField_Medical','EducationField_Other','Gender_Female'], axis= 1)\n",
        "EmpleadosAttrition = EmpleadosAttrition.drop(['Gender_Male','JobRole_Human Resources','JobRole_Manager','JobRole_Manufacturing Director'], axis= 1)\n",
        "EmpleadosAttrition = EmpleadosAttrition.drop(['JobRole_Research Scientist','JobRole_Sales Executive','MaritalStatus_Married','Attrition_No'], axis= 1)"
      ],
      "metadata": {
        "id": "MYI4DSc8xxew"
      },
      "execution_count": 91,
      "outputs": []
    },
    {
      "cell_type": "code",
      "source": [
        "EmpleadosAttritionFinal = EmpleadosAttrition\n",
        "\n",
        "EmpleadosAttritionFinal.info()"
      ],
      "metadata": {
        "colab": {
          "base_uri": "https://localhost:8080/"
        },
        "id": "l0UfrN06vhs1",
        "outputId": "5a0679b1-93e3-449c-8ac7-a8569b02dfcc"
      },
      "execution_count": 104,
      "outputs": [
        {
          "output_type": "stream",
          "name": "stdout",
          "text": [
            "<class 'pandas.core.frame.DataFrame'>\n",
            "RangeIndex: 400 entries, 0 to 399\n",
            "Data columns (total 19 columns):\n",
            " #   Column                             Non-Null Count  Dtype  \n",
            "---  ------                             --------------  -----  \n",
            " 0   Age                                400 non-null    int64  \n",
            " 1   EnvironmentSatisfaction            400 non-null    int64  \n",
            " 2   JobInvolvement                     400 non-null    int64  \n",
            " 3   JobLevel                           400 non-null    int64  \n",
            " 4   JobSatisfaction                    400 non-null    int64  \n",
            " 5   MonthlyIncome                      400 non-null    int64  \n",
            " 6   TotalWorkingYears                  400 non-null    int64  \n",
            " 7   YearsInCurrentRole                 400 non-null    int64  \n",
            " 8   YearsAtCompany                     400 non-null    int64  \n",
            " 9   MonthlyIncome_Norm                 400 non-null    float64\n",
            " 10  BusinessTravel_Non-Travel          400 non-null    uint8  \n",
            " 11  EducationField_Technical Degree    400 non-null    uint8  \n",
            " 12  JobRole_Healthcare Representative  400 non-null    uint8  \n",
            " 13  JobRole_Laboratory Technician      400 non-null    uint8  \n",
            " 14  JobRole_Research Director          400 non-null    uint8  \n",
            " 15  JobRole_Sales Representative       400 non-null    uint8  \n",
            " 16  MaritalStatus_Divorced             400 non-null    uint8  \n",
            " 17  MaritalStatus_Single               400 non-null    uint8  \n",
            " 18  Attrition_Yes                      400 non-null    uint8  \n",
            "dtypes: float64(1), int64(9), uint8(9)\n",
            "memory usage: 34.9 KB\n"
          ]
        }
      ]
    },
    {
      "cell_type": "code",
      "source": [
        "y = EmpleadosAttritionFinal['Attrition_Yes']\n",
        "\n",
        "x = EmpleadosAttritionFinal[EmpleadosAttritionFinal.columns[0:44]]\n",
        "\n",
        "reg = linear_model.Ridge(alpha=.5)\n",
        "\n",
        "reg.fit(x,y)\n",
        "\n",
        "reg.intercept_\n",
        "\n",
        "reg.coef_"
      ],
      "metadata": {
        "colab": {
          "base_uri": "https://localhost:8080/"
        },
        "id": "GMd89cXtFb8M",
        "outputId": "5b706d23-6f58-4685-a1bb-ad47796c6fae"
      },
      "execution_count": 105,
      "outputs": [
        {
          "output_type": "execute_result",
          "data": {
            "text/plain": [
              "array([-5.29142883e-05, -4.62757578e-04, -9.91332843e-04, -2.16570238e-04,\n",
              "       -5.70724394e-04,  4.58902199e-08, -1.32994552e-05, -1.63868637e-04,\n",
              "        2.26250057e-05,  2.28728057e-12, -1.79432787e-03,  2.10314896e-03,\n",
              "       -9.43119697e-04,  1.23832176e-03, -8.31100608e-04,  1.47020817e-03,\n",
              "       -3.80119901e-04,  1.40739106e-03,  9.88426036e-01])"
            ]
          },
          "metadata": {},
          "execution_count": 105
        }
      ]
    },
    {
      "cell_type": "code",
      "source": [
        "pca = PCA()"
      ],
      "metadata": {
        "id": "w3Mjo8p297zv"
      },
      "execution_count": 106,
      "outputs": []
    },
    {
      "cell_type": "code",
      "source": [
        "pca.fit(EmpleadosAttritionFinal)"
      ],
      "metadata": {
        "colab": {
          "base_uri": "https://localhost:8080/",
          "height": 52
        },
        "id": "XF-_chXx-SuZ",
        "outputId": "0bf6207a-dfda-4609-eae8-076f07af03d3"
      },
      "execution_count": 107,
      "outputs": [
        {
          "output_type": "execute_result",
          "data": {
            "text/plain": [
              "PCA()"
            ],
            "text/html": [
              "<style>#sk-container-id-3 {color: black;background-color: white;}#sk-container-id-3 pre{padding: 0;}#sk-container-id-3 div.sk-toggleable {background-color: white;}#sk-container-id-3 label.sk-toggleable__label {cursor: pointer;display: block;width: 100%;margin-bottom: 0;padding: 0.3em;box-sizing: border-box;text-align: center;}#sk-container-id-3 label.sk-toggleable__label-arrow:before {content: \"▸\";float: left;margin-right: 0.25em;color: #696969;}#sk-container-id-3 label.sk-toggleable__label-arrow:hover:before {color: black;}#sk-container-id-3 div.sk-estimator:hover label.sk-toggleable__label-arrow:before {color: black;}#sk-container-id-3 div.sk-toggleable__content {max-height: 0;max-width: 0;overflow: hidden;text-align: left;background-color: #f0f8ff;}#sk-container-id-3 div.sk-toggleable__content pre {margin: 0.2em;color: black;border-radius: 0.25em;background-color: #f0f8ff;}#sk-container-id-3 input.sk-toggleable__control:checked~div.sk-toggleable__content {max-height: 200px;max-width: 100%;overflow: auto;}#sk-container-id-3 input.sk-toggleable__control:checked~label.sk-toggleable__label-arrow:before {content: \"▾\";}#sk-container-id-3 div.sk-estimator input.sk-toggleable__control:checked~label.sk-toggleable__label {background-color: #d4ebff;}#sk-container-id-3 div.sk-label input.sk-toggleable__control:checked~label.sk-toggleable__label {background-color: #d4ebff;}#sk-container-id-3 input.sk-hidden--visually {border: 0;clip: rect(1px 1px 1px 1px);clip: rect(1px, 1px, 1px, 1px);height: 1px;margin: -1px;overflow: hidden;padding: 0;position: absolute;width: 1px;}#sk-container-id-3 div.sk-estimator {font-family: monospace;background-color: #f0f8ff;border: 1px dotted black;border-radius: 0.25em;box-sizing: border-box;margin-bottom: 0.5em;}#sk-container-id-3 div.sk-estimator:hover {background-color: #d4ebff;}#sk-container-id-3 div.sk-parallel-item::after {content: \"\";width: 100%;border-bottom: 1px solid gray;flex-grow: 1;}#sk-container-id-3 div.sk-label:hover label.sk-toggleable__label {background-color: #d4ebff;}#sk-container-id-3 div.sk-serial::before {content: \"\";position: absolute;border-left: 1px solid gray;box-sizing: border-box;top: 0;bottom: 0;left: 50%;z-index: 0;}#sk-container-id-3 div.sk-serial {display: flex;flex-direction: column;align-items: center;background-color: white;padding-right: 0.2em;padding-left: 0.2em;position: relative;}#sk-container-id-3 div.sk-item {position: relative;z-index: 1;}#sk-container-id-3 div.sk-parallel {display: flex;align-items: stretch;justify-content: center;background-color: white;position: relative;}#sk-container-id-3 div.sk-item::before, #sk-container-id-3 div.sk-parallel-item::before {content: \"\";position: absolute;border-left: 1px solid gray;box-sizing: border-box;top: 0;bottom: 0;left: 50%;z-index: -1;}#sk-container-id-3 div.sk-parallel-item {display: flex;flex-direction: column;z-index: 1;position: relative;background-color: white;}#sk-container-id-3 div.sk-parallel-item:first-child::after {align-self: flex-end;width: 50%;}#sk-container-id-3 div.sk-parallel-item:last-child::after {align-self: flex-start;width: 50%;}#sk-container-id-3 div.sk-parallel-item:only-child::after {width: 0;}#sk-container-id-3 div.sk-dashed-wrapped {border: 1px dashed gray;margin: 0 0.4em 0.5em 0.4em;box-sizing: border-box;padding-bottom: 0.4em;background-color: white;}#sk-container-id-3 div.sk-label label {font-family: monospace;font-weight: bold;display: inline-block;line-height: 1.2em;}#sk-container-id-3 div.sk-label-container {text-align: center;}#sk-container-id-3 div.sk-container {/* jupyter's `normalize.less` sets `[hidden] { display: none; }` but bootstrap.min.css set `[hidden] { display: none !important; }` so we also need the `!important` here to be able to override the default hidden behavior on the sphinx rendered scikit-learn.org. See: https://github.com/scikit-learn/scikit-learn/issues/21755 */display: inline-block !important;position: relative;}#sk-container-id-3 div.sk-text-repr-fallback {display: none;}</style><div id=\"sk-container-id-3\" class=\"sk-top-container\"><div class=\"sk-text-repr-fallback\"><pre>PCA()</pre><b>In a Jupyter environment, please rerun this cell to show the HTML representation or trust the notebook. <br />On GitHub, the HTML representation is unable to render, please try loading this page with nbviewer.org.</b></div><div class=\"sk-container\" hidden><div class=\"sk-item\"><div class=\"sk-estimator sk-toggleable\"><input class=\"sk-toggleable__control sk-hidden--visually\" id=\"sk-estimator-id-3\" type=\"checkbox\" checked><label for=\"sk-estimator-id-3\" class=\"sk-toggleable__label sk-toggleable__label-arrow\">PCA</label><div class=\"sk-toggleable__content\"><pre>PCA()</pre></div></div></div></div></div>"
            ]
          },
          "metadata": {},
          "execution_count": 107
        }
      ]
    },
    {
      "cell_type": "code",
      "source": [
        "print(pca.components_)"
      ],
      "metadata": {
        "colab": {
          "base_uri": "https://localhost:8080/"
        },
        "id": "lMvjUeeJ-kr1",
        "outputId": "38dab898-cfcf-4948-d284-1fa9ff7b5da8"
      },
      "execution_count": 108,
      "outputs": [
        {
          "output_type": "stream",
          "name": "stdout",
          "text": [
            "[[ 7.88889038e-04 -1.11509846e-05 -4.52350944e-06  2.18447247e-04\n",
            "  -1.47384267e-06  9.99998755e-01  1.17203793e-03  2.88509712e-04\n",
            "   5.98546686e-04  5.00675289e-05  7.78683348e-07 -2.19456310e-06\n",
            "   1.91502651e-06 -2.58642628e-05  3.33261499e-05 -1.08858641e-05\n",
            "  -2.32561479e-06 -4.62417218e-06 -1.47894747e-05]\n",
            " [ 8.98317475e-01  2.13403268e-03  3.98801220e-03  7.72727041e-03\n",
            "   8.75358236e-04 -1.26679417e-03  4.32810914e-01  3.12703761e-02\n",
            "   6.70564396e-02 -6.34253326e-08 -3.12147445e-03 -1.48210202e-03\n",
            "   4.72180687e-03  1.89062786e-03 -2.64531480e-03 -4.69711574e-03\n",
            "   9.38505439e-04 -5.63550713e-03 -6.63132915e-03]\n",
            " [-2.37888738e-01  1.03157646e-03 -2.46002349e-03  9.10703804e-03\n",
            "   8.50051464e-03 -8.13844936e-04  3.38430147e-01  4.59407257e-01\n",
            "   7.85826560e-01 -4.07472556e-08 -3.19829358e-04  3.44669787e-03\n",
            "  -3.32440197e-04  2.06001784e-03 -2.07986837e-03 -2.26188914e-03\n",
            "   5.90025098e-03 -6.89258958e-03 -4.94965804e-03]\n",
            " [-3.68626632e-01 -5.80486172e-03 -1.21072440e-02  6.07862098e-03\n",
            "  -1.58578350e-02 -4.21716082e-04  8.33473863e-01 -2.58958475e-01\n",
            "  -3.18897213e-01 -2.11143084e-08 -1.77186234e-03 -2.55158301e-03\n",
            "   4.20122292e-03 -8.62802916e-04 -2.77231174e-03  3.08587260e-03\n",
            "  -5.52939845e-03  9.29849208e-03  7.04498148e-03]\n",
            " [ 1.71079604e-02  3.97720547e-03  1.47476775e-02 -3.12239522e-03\n",
            "  -3.48144826e-02 -1.64285625e-05 -5.54363386e-02 -8.47754837e-01\n",
            "   5.25096043e-01 -8.22538557e-10 -1.69395760e-03  1.61784248e-03\n",
            "  -3.49441308e-03  1.17090025e-02 -1.26665691e-02  2.90192411e-03\n",
            "   1.18576582e-02  2.66612613e-03  1.71326991e-02]\n",
            " [ 1.89949895e-03  4.36990176e-01  3.61481188e-02 -2.55431741e-02\n",
            "  -8.96180466e-01  8.51114693e-06 -4.94838325e-03  3.53103845e-02\n",
            "  -7.94836973e-03  4.26132518e-10 -1.79468920e-02 -1.78821924e-02\n",
            "  -9.82704405e-03  1.35994317e-02  1.39423689e-02  8.52325746e-03\n",
            "  -2.41752001e-02  3.69127848e-04  2.87738338e-02]\n",
            " [ 5.94441912e-03 -8.97352612e-01 -5.48783545e-03 -6.91974792e-04\n",
            "  -4.34174545e-01 -1.18358998e-05 -7.02149650e-03  1.63532608e-02\n",
            "   1.80443915e-03 -5.92594979e-10 -3.96936080e-03  1.09915768e-02\n",
            "   6.72226183e-03  4.45736772e-03  1.23894688e-02  1.80529265e-02\n",
            "  -1.71701991e-02  9.66652153e-03  6.92498719e-02]\n",
            " [ 1.01045125e-02  2.66208913e-02 -9.89368031e-01 -2.52543508e-02\n",
            "  -2.49646111e-02  3.50065992e-06 -9.69018278e-03 -6.36814496e-03\n",
            "   9.28511414e-03  1.75269597e-10  4.73137437e-02  1.47035088e-02\n",
            "  -6.82443821e-03  1.19814959e-03 -1.47574453e-02  3.89644084e-03\n",
            "   2.74842856e-02  5.54942550e-02  1.10849858e-01]\n",
            " [-7.33270807e-03 -1.94096989e-02 -4.31030745e-02 -6.07892221e-03\n",
            "  -3.53191044e-02  8.50578167e-06  3.22697759e-03 -4.66524487e-03\n",
            "  -1.33528235e-02  4.25864020e-10  4.86989488e-02 -1.02398371e-02\n",
            "   2.27584684e-02  9.19478916e-02  8.18240941e-03 -8.36387490e-02\n",
            "   6.40124267e-01 -7.27379109e-01 -1.97144894e-01]\n",
            " [ 2.48453986e-03  2.38235668e-03  4.64060500e-02 -5.18597145e-01\n",
            "   4.41813577e-02  1.17851781e-04  9.15022908e-03  1.23564235e-02\n",
            "  -4.45823921e-03  5.90055493e-09  1.44885565e-02 -3.59746144e-02\n",
            "  -3.67018249e-01  6.96311328e-01  1.36773617e-01 -5.14738689e-02\n",
            "   3.35357935e-03  9.18058674e-03  2.90129761e-01]\n",
            " [ 3.44709969e-03  5.18246894e-03  7.04799293e-02  8.98777112e-02\n",
            "  -1.40288807e-02 -1.69689032e-05  4.36373825e-04  1.17885484e-02\n",
            "  -5.58370346e-03 -8.49592065e-10  1.54240656e-01 -8.54765427e-02\n",
            "  -3.70123651e-02 -1.25836497e-02  1.04628720e-02  4.91988180e-02\n",
            "   7.41708308e-01  6.26837651e-01  9.13091177e-02]\n",
            " [-3.89197608e-03 -3.62431570e-02 -6.05131253e-02  6.87033239e-02\n",
            "  -4.42020455e-02 -1.40592360e-05 -1.79434570e-03 -1.14449373e-02\n",
            "   3.40989798e-03 -7.03912095e-10  4.54880160e-01 -1.75695627e-01\n",
            "   3.32943925e-02  3.47465738e-01  1.59345237e-02 -1.75389600e-01\n",
            "  -1.52133444e-01  1.70662978e-01 -7.38429360e-01]\n",
            " [-1.80125954e-03  2.50758130e-02  2.82649598e-02  7.08658768e-01\n",
            "   5.49030626e-03 -1.18347937e-04 -9.20232124e-03  7.08489003e-03\n",
            "  -8.92997766e-03 -5.92539616e-09  1.25500133e-01  3.94957984e-02\n",
            "   1.70535101e-01  4.69516254e-01 -1.63958658e-01 -1.90846391e-01\n",
            "  -6.20427116e-02 -7.74978888e-02  3.95131724e-01]\n",
            " [-3.26157411e-03 -2.40479277e-03 -1.53950521e-02 -2.85688843e-01\n",
            "   3.33194376e-03  7.22908200e-05 -2.99810038e-03  2.85064886e-03\n",
            "   1.02849098e-03  3.61942717e-09 -4.08747470e-01 -3.25735719e-02\n",
            "   7.91225529e-01  2.38053235e-01 -7.89106184e-02 -1.86176119e-01\n",
            "   7.11081837e-02  1.31440429e-01 -6.35222136e-02]\n",
            " [ 2.98275908e-03  2.00082892e-02  7.26027415e-02 -3.22698753e-01\n",
            "   8.60839307e-03  6.63099855e-05  4.43259763e-03  5.55882854e-03\n",
            "   1.34531043e-03  3.31998097e-09  7.53192737e-01  1.12299563e-01\n",
            "   3.85257708e-01 -1.40234783e-01 -1.36931672e-01  1.35743104e-01\n",
            "  -5.13304826e-02 -1.03754145e-01  3.02461006e-01]\n",
            " [ 1.70526219e-03  1.61301973e-02 -1.40078467e-02  1.34022379e-01\n",
            "   1.23778859e-03 -4.05068787e-05  6.41983690e-04 -6.15763991e-03\n",
            "   1.30610058e-03 -2.02808193e-09 -5.45612218e-05  5.95281840e-01\n",
            "   1.64719434e-01  1.89676162e-01  5.82404057e-01  4.55964587e-01\n",
            "   2.02071377e-02  2.60303689e-02 -1.26027833e-01]\n",
            " [-2.36203194e-04  4.00794677e-03 -1.85064980e-04  5.94700104e-02\n",
            "   1.94511326e-02 -4.81995321e-05  7.11332062e-04 -8.95270351e-03\n",
            "   8.74229315e-03 -2.41323428e-09  1.01330519e-01 -4.64282550e-01\n",
            "   1.35760583e-01 -1.64301024e-01  7.65136554e-01 -3.11078288e-01\n",
            "  -4.60470040e-02 -5.34532998e-02  1.93593849e-01]\n",
            " [ 1.41587207e-03 -2.77649325e-04 -1.68546169e-02  8.54005707e-02\n",
            "   1.86539989e-02 -6.57945275e-06 -2.65164023e-03  3.57771111e-03\n",
            "   2.00900897e-03 -3.29417348e-10 -6.10582421e-02 -6.12041577e-01\n",
            "   1.13814052e-01  1.60314995e-01 -6.02451730e-02  7.50020411e-01\n",
            "  -3.22988901e-02 -8.86327300e-02  3.48271475e-03]\n",
            " [ 2.33555551e-18 -3.40246244e-17  2.47451721e-18 -6.50853386e-17\n",
            "   2.80751192e-17  5.00675912e-05  1.80525717e-18  1.52943233e-18\n",
            "  -3.14963475e-18 -9.99999999e-01 -7.87339367e-17 -2.03998120e-17\n",
            "  -7.51818558e-17  9.29831929e-17 -1.48818393e-16  7.99393746e-17\n",
            "  -8.67187680e-17  1.91380336e-17 -1.00187664e-16]]\n"
          ]
        }
      ]
    },
    {
      "cell_type": "code",
      "source": [
        "print(pca.explained_variance_)"
      ],
      "metadata": {
        "colab": {
          "base_uri": "https://localhost:8080/"
        },
        "id": "R8B0t-tV_-ay",
        "outputId": "0de6d6b1-8353-492b-fa1b-77051f6651a7"
      },
      "execution_count": 97,
      "outputs": [
        {
          "output_type": "stream",
          "name": "stdout",
          "text": [
            "[2.39959507e+07 7.15777005e+01 3.99088742e+01 1.33107841e+01\n",
            " 4.05012280e+00 1.25401797e+00 1.23987308e+00 5.44909045e-01\n",
            " 2.60889088e-01 1.50785928e-01 1.23651362e-01 1.16237952e-01\n",
            " 1.03608363e-01 8.04210035e-02 7.48032739e-02 5.16874872e-02\n",
            " 4.82024733e-02 4.26638887e-02 1.82986677e-32]\n"
          ]
        }
      ]
    },
    {
      "cell_type": "markdown",
      "source": [
        "**Los componentes que mejor explican son JobSatisfaction con el 40%, MonthlyIncome con el 12% y TotalWorkingYears con el 12% también.**"
      ],
      "metadata": {
        "id": "HM06cdNsNigr"
      }
    },
    {
      "cell_type": "code",
      "source": [
        "print(pca.explained_variance_ratio_)"
      ],
      "metadata": {
        "colab": {
          "base_uri": "https://localhost:8080/"
        },
        "id": "Nvo-G7LRAOaN",
        "outputId": "0512c171-1407-4586-cf8c-aa6283ad4323"
      },
      "execution_count": 110,
      "outputs": [
        {
          "output_type": "stream",
          "name": "stdout",
          "text": [
            "[9.99994460e-01 2.98289094e-06 1.66314115e-06 5.54706521e-07\n",
            " 1.68782659e-07 5.22592764e-08 5.16698099e-08 2.27082491e-08\n",
            " 1.08721528e-08 6.28377238e-09 5.15298093e-09 4.84403845e-09\n",
            " 4.31771971e-09 3.35142203e-09 3.11731177e-09 2.15399679e-09\n",
            " 2.00876418e-09 1.77795216e-09 7.62568926e-40]\n"
          ]
        }
      ]
    },
    {
      "cell_type": "code",
      "source": [
        "EmpleadosAttritionPCA = pca.transform(EmpleadosAttrition)"
      ],
      "metadata": {
        "id": "tw5IGUAYA7HX"
      },
      "execution_count": 111,
      "outputs": []
    },
    {
      "cell_type": "code",
      "source": [
        "EmpleadosAttritionPCA"
      ],
      "metadata": {
        "colab": {
          "base_uri": "https://localhost:8080/"
        },
        "id": "1J_WO08yBE9X",
        "outputId": "9eb67181-ef25-42d4-9ff2-be27d5234a69"
      },
      "execution_count": 114,
      "outputs": [
        {
          "output_type": "execute_result",
          "data": {
            "text/plain": [
              "array([[ 1.04884936e+04,  5.86373872e+00, -6.59108985e+00, ...,\n",
              "         3.24211367e-01, -3.61615312e-02,  1.80399887e-16],\n",
              "       [-1.96953347e+03, -1.96673861e+00, -4.10818699e+00, ...,\n",
              "        -2.03692303e-02, -6.62080197e-02, -6.69952369e-17],\n",
              "       [-4.23155155e+03, -1.53951612e+01, -3.24909861e+00, ...,\n",
              "        -9.60067576e-02,  5.43941738e-01, -4.93748919e-17],\n",
              "       ...,\n",
              "       [ 5.27446800e+03, -8.28279537e+00, -9.45020355e-01, ...,\n",
              "         5.03359812e-01, -2.24158992e-02, -2.63418389e-17],\n",
              "       [-3.60453250e+03,  1.63576301e+00, -6.53200579e+00, ...,\n",
              "        -1.00613878e-01,  5.95106949e-02,  1.01902853e-16],\n",
              "       [-4.15452775e+03, -9.73698490e-01,  4.93538551e+00, ...,\n",
              "         7.99075245e-02, -8.44545508e-02, -5.63371408e-17]])"
            ]
          },
          "metadata": {},
          "execution_count": 114
        }
      ]
    },
    {
      "cell_type": "code",
      "source": [
        "EmpleadosAttritionFinal.to_csv('EmpleadosAttritionFinal.csv', index= False)"
      ],
      "metadata": {
        "id": "i5SjWdj5qLEo"
      },
      "execution_count": 115,
      "outputs": []
    }
  ]
}